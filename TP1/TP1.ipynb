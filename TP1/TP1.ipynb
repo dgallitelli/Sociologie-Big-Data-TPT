{
 "cells": [
  {
   "cell_type": "markdown",
   "metadata": {},
   "source": [
    "# Facebook post analysis\n",
    "\n",
    "The goal is to analyze how the post type changed through time."
   ]
  },
  {
   "cell_type": "markdown",
   "metadata": {},
   "source": [
    "### Step 0: Using Facebook Graph API \n",
    "Use the Facebook API to get information about my posts. In this case, I use a file already downloaded through cURL from the Graph API explorer."
   ]
  },
  {
   "cell_type": "code",
   "execution_count": 1,
   "metadata": {},
   "outputs": [],
   "source": [
    "%matplotlib inline"
   ]
  },
  {
   "cell_type": "code",
   "execution_count": 2,
   "metadata": {},
   "outputs": [],
   "source": [
    "import numpy as np\n",
    "import pandas as pd\n",
    "from scipy import stats, integrate\n",
    "import matplotlib.pyplot as plt\n",
    "import seaborn as sns\n",
    "import json\n",
    "import urllib.request"
   ]
  },
  {
   "cell_type": "code",
   "execution_count": 3,
   "metadata": {},
   "outputs": [],
   "source": [
    "# token = \"965088163650427|38fx8GsBIwRCc72rryz704-UiS0\"\n",
    "token = \"EAACEdEose0cBAMYe6vBcgbtE1T7F5S8bI0fm5cws5je48fERrlIyWRR0TCKsQQBCRnOupWO9HDIevbeiG57HbuQkVU3ZBxU5xTBrmZBWILo4iWHaXoTwPChPxqrJw2bIbmzzwzOljbMzv0ZAJFeoyjRxmUAgwK2HvAFM0Hf7dE4qUbbyXhD5dvSErOV8NFai6IObW9vRoY15eiYWDGu\"\n",
    "req = \"https://graph.facebook.com/v3.0/me?fields=feed.limit(500)%7Bmessage%2Cfrom%2Creactions%2Cstatus_type%2Ctype%2Clink%2Cstory%2Ccreated_time%7D&access_token=\"+token\n",
    "contents = urllib.request.urlopen(req)\n",
    "data = json.load(contents)\n",
    "\n",
    "nextpage = data['feed']['paging']['next']\n",
    "contents2 = urllib.request.urlopen(nextpage)\n",
    "data2 = json.load(contents2)\n",
    "\n",
    "data['feed']['data'].extend(data2['data'])"
   ]
  },
  {
   "cell_type": "code",
   "execution_count": 4,
   "metadata": {},
   "outputs": [
    {
     "name": "stdout",
     "output_type": "stream",
     "text": [
      "Number of status update: 373\n",
      "Number of total posts: 548\n"
     ]
    }
   ],
   "source": [
    "posts_array = [x for x in data['feed']['data']]\n",
    "updates_array = [feed['message'] for feed in data['feed']['data'] if 'message' in feed]\n",
    "\n",
    "print(\"Number of status update: \"+str(len(updates_array)))\n",
    "print(\"Number of total posts: \"+str(len(posts_array)))"
   ]
  },
  {
   "cell_type": "code",
   "execution_count": 5,
   "metadata": {},
   "outputs": [
    {
     "data": {
      "text/plain": [
       "<matplotlib.axes._subplots.AxesSubplot at 0x7f79a86774e0>"
      ]
     },
     "execution_count": 5,
     "metadata": {},
     "output_type": "execute_result"
    },
    {
     "data": {
      "image/png": "[encoded data removed]",
      "text/plain": [
       "<matplotlib.figure.Figure at 0x7f79a8b5a748>"
      ]
     },
     "metadata": {},
     "output_type": "display_data"
    }
   ],
   "source": [
    "x = ['status', 'post']\n",
    "y = [len(updates_array), len(posts_array)]\n",
    "sns.barplot(x=x, y=y)"
   ]
  },
  {
   "cell_type": "markdown",
   "metadata": {},
   "source": [
    "### How things changed from 2014?\n",
    "\n",
    "Let's plot the difference in post *type* and *status_type* for year 2014 and 2018. What we're interested in is to look, among the 500 posts loaded, how the distribution of *type* and *status_type* has changed:\n",
    "\n",
    "- did I post more images or status updates in 2014? What about now?\n",
    "- did I do as many updates from mobile in 2014 as I do now?\n",
    "\n",
    "For this analysis, I'll use all posts published during year 2014 and all those posted in 2018."
   ]
  },
  {
   "cell_type": "code",
   "execution_count": 15,
   "metadata": {},
   "outputs": [],
   "source": [
    "# Request posts from 2014-01-01 to 2014-12-31\n",
    "req_2014 = \"https://graph.facebook.com/v3.0/me/feed?fields=type%2Cstatus_type%2Ccreated_time%2Creactions%2Ccoordinates%2Cplace&limit=500&since=2014-01-01&until=2014-12-31&access_token=\"+token\n",
    "contents_2014 = urllib.request.urlopen(req_2014)\n",
    "data_2014 = json.load(contents_2014)\n",
    "\n",
    "nextpage_2014 = data_2014['paging']['next']\n",
    "contents2_2014 = urllib.request.urlopen(nextpage_2014)\n",
    "data2_2014 = json.load(contents2_2014)\n",
    "\n",
    "data_2014['data'].extend(data2_2014['data'])"
   ]
  },
  {
   "cell_type": "code",
   "execution_count": 22,
   "metadata": {},
   "outputs": [],
   "source": [
    "# Request posts from 2018-01-01 to 2018-12-31\n",
    "req_2018 = \"https://graph.facebook.com/v3.0/me/feed?fields=type%2Cstatus_type%2Ccreated_time%2Creactions%2Ccoordinates%2Cplace&limit=500&since=2018-01-01&until=2018-12-31&access_token=\"+token\n",
    "contents_2018 = urllib.request.urlopen(req_2018)\n",
    "data_2018 = json.load(contents_2018)\n",
    "\n",
    "nextpage_2018 = data_2018['paging']['next']\n",
    "contents2_2018 = urllib.request.urlopen(nextpage_2018)\n",
    "data2_2018 = json.load(contents2_2018)\n",
    "\n",
    "data_2018['data'].extend(data2_2018['data'])"
   ]
  },
  {
   "cell_type": "code",
   "execution_count": 24,
   "metadata": {},
   "outputs": [],
   "source": [
    "df_2014 = pd.DataFrame(data = data_2014['data'])\n",
    "df_2018 = pd.DataFrame(data = data_2018['data'])"
   ]
  },
  {
   "cell_type": "code",
   "execution_count": 56,
   "metadata": {},
   "outputs": [
    {
     "name": "stdout",
     "output_type": "stream",
     "text": [
      "### DATA FROM 2014 ###\n",
      "     type  id\n",
      "0    link  35\n",
      "1    note   1\n",
      "2   photo  70\n",
      "3  status  28\n",
      "4   video   9\n",
      "######################\n",
      "### DATA FROM 2018 ###\n",
      "     type  id\n",
      "0    link   3\n",
      "1   photo  31\n",
      "2  status   5\n",
      "3   video   7\n",
      "######################\n"
     ]
    }
   ],
   "source": [
    "df_2014_bytype = df_2014.groupby(by = df_2014.type, axis = 0).count().reset_index()\n",
    "df_2018_bytype = df_2018.groupby(by = df_2018.type, axis = 0).count().reset_index()\n",
    "print(\"### DATA FROM 2014 ###\")\n",
    "print(df_2014_bytype[['type','id']])\n",
    "print(\"######################\")\n",
    "print(\"### DATA FROM 2018 ###\")\n",
    "print(df_2018_bytype[['type','id']])\n",
    "print(\"######################\")"
   ]
  },
  {
   "cell_type": "code",
   "execution_count": 50,
   "metadata": {},
   "outputs": [
    {
     "data": {
      "image/png": "[encoded data removed]",
      "text/plain": [
       "<matplotlib.figure.Figure at 0x7f79a51782e8>"
      ]
     },
     "metadata": {},
     "output_type": "display_data"
    }
   ],
   "source": [
    "fig = plt.figure()\n",
    "ax1 = fig.add_subplot(121)\n",
    "ax2 = fig.add_subplot(122)\n",
    "\n",
    "# Àdd the subplots\n",
    "b1 = sns.barplot(x=df_2014_bytype.type, y=df_2014_bytype.id.values, ax=ax1)\n",
    "b2 = sns.barplot(x=df_2018_bytype.type, y=df_2018_bytype.id.values, ax=ax2)\n",
    "\n",
    "# Rotate the x labels\n",
    "b1.set_xticklabels(b1.get_xticklabels(), rotation=90)\n",
    "b2.set_xticklabels(b2.get_xticklabels(), rotation=90)\n",
    "\n",
    "# Insert title of plot\n",
    "b1.set_title(\"Feed type in 2014\")\n",
    "b2.set_title(\"Feed type in 2018\")\n",
    "\n",
    "plt.show()"
   ]
  },
  {
   "cell_type": "code",
   "execution_count": 57,
   "metadata": {},
   "outputs": [
    {
     "name": "stdout",
     "output_type": "stream",
     "text": [
      "### DATA FROM 2014 ###\n",
      "            status_type  id\n",
      "0          added_photos  37\n",
      "1           added_video   6\n",
      "2  mobile_status_update  27\n",
      "3       published_story   4\n",
      "4          shared_story  68\n",
      "######################\n",
      "### DATA FROM 2018 ###\n",
      "            status_type  id\n",
      "0          added_photos  21\n",
      "1           added_video   1\n",
      "2  mobile_status_update  23\n",
      "######################\n"
     ]
    }
   ],
   "source": [
    "df_2014_bystatustype = df_2014.groupby(by = df_2014.status_type, axis = 0).count().reset_index()\n",
    "df_2018_bystatustype = df_2018.groupby(by = df_2018.status_type, axis = 0).count().reset_index()\n",
    "print(\"### DATA FROM 2014 ###\")\n",
    "print(df_2014_bystatustype[['status_type','id']])\n",
    "print(\"######################\")\n",
    "print(\"### DATA FROM 2018 ###\")\n",
    "print(df_2018_bystatustype[['status_type','id']])\n",
    "print(\"######################\")"
   ]
  },
  {
   "cell_type": "code",
   "execution_count": 55,
   "metadata": {},
   "outputs": [
    {
     "data": {
      "image/png": "[encoded data removed]",
      "text/plain": [
       "<matplotlib.figure.Figure at 0x7f79a5698400>"
      ]
     },
     "metadata": {},
     "output_type": "display_data"
    }
   ],
   "source": [
    "fig = plt.figure()\n",
    "ax1 = fig.add_subplot(121)\n",
    "ax2 = fig.add_subplot(122)\n",
    "\n",
    "b1 = sns.barplot(x=df_2014_bystatustype.status_type, y=df_2014_bystatustype.id.values, ax=ax1)\n",
    "b2 = sns.barplot(x=df_2018_bystatustype.status_type, y=df_2018_bystatustype.id.values, ax=ax2)\n",
    "\n",
    "b1.set_xticklabels(b1.get_xticklabels(), rotation=90)\n",
    "b2.set_xticklabels(b2.get_xticklabels(), rotation=90)\n",
    "\n",
    "# Insert title of plot\n",
    "b1.set_title(\"Status_type in 2014\")\n",
    "b2.set_title(\"Status_type in 2018\")\n",
    "\n",
    "plt.show()"
   ]
  },
  {
   "cell_type": "markdown",
   "metadata": {},
   "source": [
    "_________________________________________"
   ]
  },
  {
   "cell_type": "markdown",
   "metadata": {},
   "source": [
    "### Metadata Analysis\n",
    "\n",
    "Not all information contained in Facebook feed data is actually shown on the platform itself.\n",
    "\n",
    "**Goal**: show the metadata associated with the different posts in 2014 and 2018."
   ]
  },
  {
   "cell_type": "code",
   "execution_count": 69,
   "metadata": {},
   "outputs": [
    {
     "name": "stdout",
     "output_type": "stream",
     "text": [
      "Types_2014: ['photo' 'link' 'video' 'status']\n",
      "Types_2018: ['photo' 'link' 'video' 'status']\n",
      "Status_types_2014: ['shared_story' 'published_story' nan 'added_photos'\n",
      " 'mobile_status_update' 'added_video']\n",
      "Status_types_2018: ['added_photos' 'mobile_status_update' 'added_video' nan]\n"
     ]
    }
   ],
   "source": [
    "types_2014 = df_2018.type.unique()\n",
    "status_types_2014 = df_2014.status_type.unique()\n",
    "types_2018 = df_2018.type.unique()\n",
    "status_types_2018 = df_2018.status_type.unique()\n",
    "\n",
    "print(\"Types_2014: \"+str(types_2014))\n",
    "print(\"Types_2018: \"+str(types_2018))\n",
    "print(\"Status_types_2014: \"+str(status_types_2014))\n",
    "print(\"Status_types_2018: \"+str(status_types_2018))"
   ]
  },
  {
   "cell_type": "code",
   "execution_count": 95,
   "metadata": {},
   "outputs": [
    {
     "name": "stdout",
     "output_type": "stream",
     "text": [
      "None\n"
     ]
    }
   ],
   "source": [
    "metadata_2014 = set()\n",
    "metadata_2018 = set()\n",
    "\n",
    "# Obtain metadata name for one post of every type\n",
    "for typ in types_2014:\n",
    "    # Get the post ID\n",
    "    post_id = df_2014[df_2014['type']==typ].head(1).id.values[0]\n",
    "    # Do a new request asking the metadata\n",
    "    req = \"https://graph.facebook.com/v3.0/\"+str(post_id)+\"?metadata=1&access_token=\"+token\n",
    "    contents = urllib.request.urlopen(req)\n",
    "    metadata = json.load(contents)\n",
    "    # Extract the metadata field name\n",
    "    md_names = [field['name'] for field in metadata['metadata']['fields']]\n",
    "    # Insert into metadata set\n",
    "    metadata_2014.update(md_names)\n",
    "    \n",
    "# do the same for 2018\n",
    "for typ in types_2018:\n",
    "    # Get the post ID\n",
    "    post_id = df_2018[df_2018['type']==typ].head(1).id.values[0]\n",
    "    # Do a new request asking the metadata\n",
    "    req = \"https://graph.facebook.com/v3.0/\"+str(post_id)+\"?metadata=1&access_token=\"+token\n",
    "    contents = urllib.request.urlopen(req)\n",
    "    metadata = json.load(contents)\n",
    "    # Extract the metadata field name\n",
    "    md_names = [field['name'] for field in metadata['metadata']['fields']]\n",
    "    # Insert into metadata set\n",
    "    metadata_2018.update(md_names)\n",
    "    \n",
    "# Extract the different fields from the two metadata sets\n",
    "different_metadata = metadata_2014.symmetric_difference_update(metadata_2018)\n",
    "print(different_metadata)"
   ]
  }
 ],
 "metadata": {
  "kernelspec": {
   "display_name": "Python 3",
   "language": "python",
   "name": "python3"
  },
  "language_info": {
   "codemirror_mode": {
    "name": "ipython",
    "version": 3
   },
   "file_extension": ".py",
   "mimetype": "text/x-python",
   "name": "python",
   "nbconvert_exporter": "python",
   "pygments_lexer": "ipython3",
   "version": "3.6.5"
  }
 },
 "nbformat": 4,
 "nbformat_minor": 2
}
